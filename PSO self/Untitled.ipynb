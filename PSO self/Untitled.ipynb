{
 "cells": [
  {
   "cell_type": "code",
   "execution_count": 12,
   "id": "97d1c0ec",
   "metadata": {},
   "outputs": [
    {
     "data": {
      "text/html": [
       "<div>\n",
       "<style scoped>\n",
       "    .dataframe tbody tr th:only-of-type {\n",
       "        vertical-align: middle;\n",
       "    }\n",
       "\n",
       "    .dataframe tbody tr th {\n",
       "        vertical-align: top;\n",
       "    }\n",
       "\n",
       "    .dataframe thead th {\n",
       "        text-align: right;\n",
       "    }\n",
       "</style>\n",
       "<table border=\"1\" class=\"dataframe\">\n",
       "  <thead>\n",
       "    <tr style=\"text-align: right;\">\n",
       "      <th></th>\n",
       "      <th>Open</th>\n",
       "      <th>High</th>\n",
       "      <th>Low</th>\n",
       "      <th>Close</th>\n",
       "      <th>Adj Close</th>\n",
       "      <th>Volume</th>\n",
       "    </tr>\n",
       "    <tr>\n",
       "      <th>Date</th>\n",
       "      <th></th>\n",
       "      <th></th>\n",
       "      <th></th>\n",
       "      <th></th>\n",
       "      <th></th>\n",
       "      <th></th>\n",
       "    </tr>\n",
       "  </thead>\n",
       "  <tbody>\n",
       "    <tr>\n",
       "      <th>2023-06-26</th>\n",
       "      <td>42.460999</td>\n",
       "      <td>42.764000</td>\n",
       "      <td>40.099998</td>\n",
       "      <td>40.632000</td>\n",
       "      <td>40.619839</td>\n",
       "      <td>594322000</td>\n",
       "    </tr>\n",
       "    <tr>\n",
       "      <th>2023-06-27</th>\n",
       "      <td>40.799000</td>\n",
       "      <td>41.939999</td>\n",
       "      <td>40.448002</td>\n",
       "      <td>41.875999</td>\n",
       "      <td>41.863468</td>\n",
       "      <td>462175000</td>\n",
       "    </tr>\n",
       "    <tr>\n",
       "      <th>2023-06-28</th>\n",
       "      <td>40.660000</td>\n",
       "      <td>41.845001</td>\n",
       "      <td>40.518002</td>\n",
       "      <td>41.117001</td>\n",
       "      <td>41.104691</td>\n",
       "      <td>582639000</td>\n",
       "    </tr>\n",
       "    <tr>\n",
       "      <th>2023-06-29</th>\n",
       "      <td>41.557999</td>\n",
       "      <td>41.599998</td>\n",
       "      <td>40.599998</td>\n",
       "      <td>40.821999</td>\n",
       "      <td>40.809780</td>\n",
       "      <td>380514000</td>\n",
       "    </tr>\n",
       "    <tr>\n",
       "      <th>2023-06-30</th>\n",
       "      <td>41.680000</td>\n",
       "      <td>42.549999</td>\n",
       "      <td>41.500999</td>\n",
       "      <td>42.301998</td>\n",
       "      <td>42.289337</td>\n",
       "      <td>501148000</td>\n",
       "    </tr>\n",
       "  </tbody>\n",
       "</table>\n",
       "</div>"
      ],
      "text/plain": [
       "                 Open       High        Low      Close  Adj Close     Volume\n",
       "Date                                                                        \n",
       "2023-06-26  42.460999  42.764000  40.099998  40.632000  40.619839  594322000\n",
       "2023-06-27  40.799000  41.939999  40.448002  41.875999  41.863468  462175000\n",
       "2023-06-28  40.660000  41.845001  40.518002  41.117001  41.104691  582639000\n",
       "2023-06-29  41.557999  41.599998  40.599998  40.821999  40.809780  380514000\n",
       "2023-06-30  41.680000  42.549999  41.500999  42.301998  42.289337  501148000"
      ]
     },
     "execution_count": 12,
     "metadata": {},
     "output_type": "execute_result"
    }
   ],
   "source": [
    "import pandas as pd\n",
    "df = pd.read_csv(\"NVDA.csv\" , parse_dates = [\"Date\"] , index_col = \"Date\")\n",
    "df.head(5)"
   ]
  },
  {
   "cell_type": "code",
   "execution_count": 14,
   "id": "8bc2922c",
   "metadata": {
    "scrolled": true
   },
   "outputs": [
    {
     "data": {
      "text/plain": [
       "DatetimeIndex(['2023-06-26', '2023-06-27', '2023-06-28', '2023-06-29',\n",
       "               '2023-06-30', '2023-07-03', '2023-07-05', '2023-07-06',\n",
       "               '2023-07-07', '2023-07-10',\n",
       "               ...\n",
       "               '2024-06-07', '2024-06-10', '2024-06-11', '2024-06-12',\n",
       "               '2024-06-13', '2024-06-14', '2024-06-17', '2024-06-18',\n",
       "               '2024-06-20', '2024-06-21'],\n",
       "              dtype='datetime64[ns]', name='Date', length=250, freq=None)"
      ]
     },
     "execution_count": 14,
     "metadata": {},
     "output_type": "execute_result"
    }
   ],
   "source": [
    "df.index"
   ]
  },
  {
   "cell_type": "code",
   "execution_count": 44,
   "id": "d35067f4",
   "metadata": {
    "scrolled": true
   },
   "outputs": [
    {
     "data": {
      "text/html": [
       "<div>\n",
       "<style scoped>\n",
       "    .dataframe tbody tr th:only-of-type {\n",
       "        vertical-align: middle;\n",
       "    }\n",
       "\n",
       "    .dataframe tbody tr th {\n",
       "        vertical-align: top;\n",
       "    }\n",
       "\n",
       "    .dataframe thead th {\n",
       "        text-align: right;\n",
       "    }\n",
       "</style>\n",
       "<table border=\"1\" class=\"dataframe\">\n",
       "  <thead>\n",
       "    <tr style=\"text-align: right;\">\n",
       "      <th></th>\n",
       "      <th>Open</th>\n",
       "      <th>High</th>\n",
       "      <th>Low</th>\n",
       "      <th>Close</th>\n",
       "      <th>Adj Close</th>\n",
       "      <th>Volume</th>\n",
       "    </tr>\n",
       "    <tr>\n",
       "      <th>Date</th>\n",
       "      <th></th>\n",
       "      <th></th>\n",
       "      <th></th>\n",
       "      <th></th>\n",
       "      <th></th>\n",
       "      <th></th>\n",
       "    </tr>\n",
       "  </thead>\n",
       "  <tbody>\n",
       "    <tr>\n",
       "      <th>2023-07-27</th>\n",
       "      <td>46.519001</td>\n",
       "      <td>47.395000</td>\n",
       "      <td>45.750000</td>\n",
       "      <td>45.900002</td>\n",
       "      <td>45.886265</td>\n",
       "      <td>455976000</td>\n",
       "    </tr>\n",
       "    <tr>\n",
       "      <th>2023-07-28</th>\n",
       "      <td>46.667999</td>\n",
       "      <td>47.027000</td>\n",
       "      <td>46.381001</td>\n",
       "      <td>46.750000</td>\n",
       "      <td>46.736012</td>\n",
       "      <td>331194000</td>\n",
       "    </tr>\n",
       "    <tr>\n",
       "      <th>2023-07-31</th>\n",
       "      <td>46.754002</td>\n",
       "      <td>47.130001</td>\n",
       "      <td>46.506001</td>\n",
       "      <td>46.729000</td>\n",
       "      <td>46.715012</td>\n",
       "      <td>251055000</td>\n",
       "    </tr>\n",
       "    <tr>\n",
       "      <th>2023-08-01</th>\n",
       "      <td>46.459999</td>\n",
       "      <td>46.900002</td>\n",
       "      <td>46.027000</td>\n",
       "      <td>46.507000</td>\n",
       "      <td>46.493080</td>\n",
       "      <td>237858000</td>\n",
       "    </tr>\n",
       "    <tr>\n",
       "      <th>2023-08-02</th>\n",
       "      <td>45.831001</td>\n",
       "      <td>45.840000</td>\n",
       "      <td>43.387001</td>\n",
       "      <td>44.269001</td>\n",
       "      <td>44.255753</td>\n",
       "      <td>530142000</td>\n",
       "    </tr>\n",
       "    <tr>\n",
       "      <th>2023-08-03</th>\n",
       "      <td>43.799999</td>\n",
       "      <td>45.118000</td>\n",
       "      <td>43.799999</td>\n",
       "      <td>44.514999</td>\n",
       "      <td>44.501678</td>\n",
       "      <td>324176000</td>\n",
       "    </tr>\n",
       "  </tbody>\n",
       "</table>\n",
       "</div>"
      ],
      "text/plain": [
       "                 Open       High        Low      Close  Adj Close     Volume\n",
       "Date                                                                        \n",
       "2023-07-27  46.519001  47.395000  45.750000  45.900002  45.886265  455976000\n",
       "2023-07-28  46.667999  47.027000  46.381001  46.750000  46.736012  331194000\n",
       "2023-07-31  46.754002  47.130001  46.506001  46.729000  46.715012  251055000\n",
       "2023-08-01  46.459999  46.900002  46.027000  46.507000  46.493080  237858000\n",
       "2023-08-02  45.831001  45.840000  43.387001  44.269001  44.255753  530142000\n",
       "2023-08-03  43.799999  45.118000  43.799999  44.514999  44.501678  324176000"
      ]
     },
     "execution_count": 44,
     "metadata": {},
     "output_type": "execute_result"
    }
   ],
   "source": [
    "df.loc[\"2023-07-27\":\"2023-08-3\"]"
   ]
  },
  {
   "cell_type": "code",
   "execution_count": 41,
   "id": "0b84bc7f",
   "metadata": {},
   "outputs": [
    {
     "data": {
      "text/plain": [
       "<Axes: xlabel='Date'>"
      ]
     },
     "execution_count": 41,
     "metadata": {},
     "output_type": "execute_result"
    },
    {
     "data": {
      "image/png": "[encoded data removed]",
      "text/plain": [
       "<Figure size 640x480 with 1 Axes>"
      ]
     },
     "metadata": {},
     "output_type": "display_data"
    }
   ],
   "source": [
    "df.Close.resample('M').mean().plot( kind =\"bar\" )"
   ]
  }
 ],
 "metadata": {
  "kernelspec": {
   "display_name": "Python 3 (ipykernel)",
   "language": "python",
   "name": "python3"
  },
  "language_info": {
   "codemirror_mode": {
    "name": "ipython",
    "version": 3
   },
   "file_extension": ".py",
   "mimetype": "text/x-python",
   "name": "python",
   "nbconvert_exporter": "python",
   "pygments_lexer": "ipython3",
   "version": "3.10.9"
  }
 },
 "nbformat": 4,
 "nbformat_minor": 5
}
